{
 "cells": [
  {
   "cell_type": "code",
   "execution_count": 3,
   "metadata": {},
   "outputs": [],
   "source": [
    "users = [\"User1\",\"User2\",\"User3\",\"User4\",\"User5\"]\n",
    "items =[\"Item A\",\"Item B\",\"Item C\",\"Item D\",\"Item E\"]\n",
    "\n",
    "# 用户评分矩阵\n",
    "dataset = [\n",
    "    [5,3,4,4,None],\n",
    "    [3,1,2,3,3],\n",
    "    [4,3,4,3,5],\n",
    "    [3,3,1,5,4],\n",
    "    [1,5,5,2,1],\n",
    "]\n",
    "import pandas as pd\n",
    "df = pd.DataFrame(dataset, columns=items, index=users)"
   ]
  },
  {
   "cell_type": "code",
   "execution_count": 4,
   "metadata": {},
   "outputs": [
    {
     "data": {
      "text/html": [
       "<div>\n",
       "<style scoped>\n",
       "    .dataframe tbody tr th:only-of-type {\n",
       "        vertical-align: middle;\n",
       "    }\n",
       "\n",
       "    .dataframe tbody tr th {\n",
       "        vertical-align: top;\n",
       "    }\n",
       "\n",
       "    .dataframe thead th {\n",
       "        text-align: right;\n",
       "    }\n",
       "</style>\n",
       "<table border=\"1\" class=\"dataframe\">\n",
       "  <thead>\n",
       "    <tr style=\"text-align: right;\">\n",
       "      <th></th>\n",
       "      <th>Item A</th>\n",
       "      <th>Item B</th>\n",
       "      <th>Item C</th>\n",
       "      <th>Item D</th>\n",
       "      <th>Item E</th>\n",
       "    </tr>\n",
       "  </thead>\n",
       "  <tbody>\n",
       "    <tr>\n",
       "      <th>User1</th>\n",
       "      <td>5</td>\n",
       "      <td>3</td>\n",
       "      <td>4</td>\n",
       "      <td>4</td>\n",
       "      <td>NaN</td>\n",
       "    </tr>\n",
       "    <tr>\n",
       "      <th>User2</th>\n",
       "      <td>3</td>\n",
       "      <td>1</td>\n",
       "      <td>2</td>\n",
       "      <td>3</td>\n",
       "      <td>3.0</td>\n",
       "    </tr>\n",
       "    <tr>\n",
       "      <th>User3</th>\n",
       "      <td>4</td>\n",
       "      <td>3</td>\n",
       "      <td>4</td>\n",
       "      <td>3</td>\n",
       "      <td>5.0</td>\n",
       "    </tr>\n",
       "    <tr>\n",
       "      <th>User4</th>\n",
       "      <td>3</td>\n",
       "      <td>3</td>\n",
       "      <td>1</td>\n",
       "      <td>5</td>\n",
       "      <td>4.0</td>\n",
       "    </tr>\n",
       "    <tr>\n",
       "      <th>User5</th>\n",
       "      <td>1</td>\n",
       "      <td>5</td>\n",
       "      <td>5</td>\n",
       "      <td>2</td>\n",
       "      <td>1.0</td>\n",
       "    </tr>\n",
       "  </tbody>\n",
       "</table>\n",
       "</div>"
      ],
      "text/plain": [
       "       Item A  Item B  Item C  Item D  Item E\n",
       "User1       5       3       4       4     NaN\n",
       "User2       3       1       2       3     3.0\n",
       "User3       4       3       4       3     5.0\n",
       "User4       3       3       1       5     4.0\n",
       "User5       1       5       5       2     1.0"
      ]
     },
     "execution_count": 4,
     "metadata": {},
     "output_type": "execute_result"
    }
   ],
   "source": [
    "df"
   ]
  },
  {
   "cell_type": "code",
   "execution_count": 8,
   "metadata": {},
   "outputs": [],
   "source": [
    "# 用户相似度计算\n",
    "# 默认按照列进行计算，所以算用户相似度得先转置\n",
    "user_sim = df.T.corr().round(4)"
   ]
  },
  {
   "cell_type": "code",
   "execution_count": 9,
   "metadata": {},
   "outputs": [
    {
     "data": {
      "text/html": [
       "<div>\n",
       "<style scoped>\n",
       "    .dataframe tbody tr th:only-of-type {\n",
       "        vertical-align: middle;\n",
       "    }\n",
       "\n",
       "    .dataframe tbody tr th {\n",
       "        vertical-align: top;\n",
       "    }\n",
       "\n",
       "    .dataframe thead th {\n",
       "        text-align: right;\n",
       "    }\n",
       "</style>\n",
       "<table border=\"1\" class=\"dataframe\">\n",
       "  <thead>\n",
       "    <tr style=\"text-align: right;\">\n",
       "      <th></th>\n",
       "      <th>User1</th>\n",
       "      <th>User2</th>\n",
       "      <th>User3</th>\n",
       "      <th>User4</th>\n",
       "      <th>User5</th>\n",
       "    </tr>\n",
       "  </thead>\n",
       "  <tbody>\n",
       "    <tr>\n",
       "      <th>User1</th>\n",
       "      <td>1.0000</td>\n",
       "      <td>0.8528</td>\n",
       "      <td>0.7071</td>\n",
       "      <td>0.0000</td>\n",
       "      <td>-0.7921</td>\n",
       "    </tr>\n",
       "    <tr>\n",
       "      <th>User2</th>\n",
       "      <td>0.8528</td>\n",
       "      <td>1.0000</td>\n",
       "      <td>0.4677</td>\n",
       "      <td>0.4900</td>\n",
       "      <td>-0.9001</td>\n",
       "    </tr>\n",
       "    <tr>\n",
       "      <th>User3</th>\n",
       "      <td>0.7071</td>\n",
       "      <td>0.4677</td>\n",
       "      <td>1.0000</td>\n",
       "      <td>-0.1612</td>\n",
       "      <td>-0.4666</td>\n",
       "    </tr>\n",
       "    <tr>\n",
       "      <th>User4</th>\n",
       "      <td>0.0000</td>\n",
       "      <td>0.4900</td>\n",
       "      <td>-0.1612</td>\n",
       "      <td>1.0000</td>\n",
       "      <td>-0.6415</td>\n",
       "    </tr>\n",
       "    <tr>\n",
       "      <th>User5</th>\n",
       "      <td>-0.7921</td>\n",
       "      <td>-0.9001</td>\n",
       "      <td>-0.4666</td>\n",
       "      <td>-0.6415</td>\n",
       "      <td>1.0000</td>\n",
       "    </tr>\n",
       "  </tbody>\n",
       "</table>\n",
       "</div>"
      ],
      "text/plain": [
       "        User1   User2   User3   User4   User5\n",
       "User1  1.0000  0.8528  0.7071  0.0000 -0.7921\n",
       "User2  0.8528  1.0000  0.4677  0.4900 -0.9001\n",
       "User3  0.7071  0.4677  1.0000 -0.1612 -0.4666\n",
       "User4  0.0000  0.4900 -0.1612  1.0000 -0.6415\n",
       "User5 -0.7921 -0.9001 -0.4666 -0.6415  1.0000"
      ]
     },
     "execution_count": 9,
     "metadata": {},
     "output_type": "execute_result"
    }
   ],
   "source": [
    "user_sim"
   ]
  },
  {
   "cell_type": "code",
   "execution_count": 10,
   "metadata": {},
   "outputs": [
    {
     "data": {
      "text/html": [
       "<div>\n",
       "<style scoped>\n",
       "    .dataframe tbody tr th:only-of-type {\n",
       "        vertical-align: middle;\n",
       "    }\n",
       "\n",
       "    .dataframe tbody tr th {\n",
       "        vertical-align: top;\n",
       "    }\n",
       "\n",
       "    .dataframe thead th {\n",
       "        text-align: right;\n",
       "    }\n",
       "</style>\n",
       "<table border=\"1\" class=\"dataframe\">\n",
       "  <thead>\n",
       "    <tr style=\"text-align: right;\">\n",
       "      <th></th>\n",
       "      <th>Item A</th>\n",
       "      <th>Item B</th>\n",
       "      <th>Item C</th>\n",
       "      <th>Item D</th>\n",
       "      <th>Item E</th>\n",
       "    </tr>\n",
       "  </thead>\n",
       "  <tbody>\n",
       "    <tr>\n",
       "      <th>Item A</th>\n",
       "      <td>1.0000</td>\n",
       "      <td>-0.4767</td>\n",
       "      <td>-0.1231</td>\n",
       "      <td>0.5322</td>\n",
       "      <td>0.9695</td>\n",
       "    </tr>\n",
       "    <tr>\n",
       "      <th>Item B</th>\n",
       "      <td>-0.4767</td>\n",
       "      <td>1.0000</td>\n",
       "      <td>0.6455</td>\n",
       "      <td>-0.3101</td>\n",
       "      <td>-0.4781</td>\n",
       "    </tr>\n",
       "    <tr>\n",
       "      <th>Item C</th>\n",
       "      <td>-0.1231</td>\n",
       "      <td>0.6455</td>\n",
       "      <td>1.0000</td>\n",
       "      <td>-0.7206</td>\n",
       "      <td>-0.4276</td>\n",
       "    </tr>\n",
       "    <tr>\n",
       "      <th>Item D</th>\n",
       "      <td>0.5322</td>\n",
       "      <td>-0.3101</td>\n",
       "      <td>-0.7206</td>\n",
       "      <td>1.0000</td>\n",
       "      <td>0.5817</td>\n",
       "    </tr>\n",
       "    <tr>\n",
       "      <th>Item E</th>\n",
       "      <td>0.9695</td>\n",
       "      <td>-0.4781</td>\n",
       "      <td>-0.4276</td>\n",
       "      <td>0.5817</td>\n",
       "      <td>1.0000</td>\n",
       "    </tr>\n",
       "  </tbody>\n",
       "</table>\n",
       "</div>"
      ],
      "text/plain": [
       "        Item A  Item B  Item C  Item D  Item E\n",
       "Item A  1.0000 -0.4767 -0.1231  0.5322  0.9695\n",
       "Item B -0.4767  1.0000  0.6455 -0.3101 -0.4781\n",
       "Item C -0.1231  0.6455  1.0000 -0.7206 -0.4276\n",
       "Item D  0.5322 -0.3101 -0.7206  1.0000  0.5817\n",
       "Item E  0.9695 -0.4781 -0.4276  0.5817  1.0000"
      ]
     },
     "execution_count": 10,
     "metadata": {},
     "output_type": "execute_result"
    }
   ],
   "source": [
    "# 物品相似度\n",
    "item_sim = df.corr().round(4)\n",
    "item_sim"
   ]
  },
  {
   "cell_type": "markdown",
   "metadata": {},
   "source": [
    "## 预测user1对itemE的评分"
   ]
  },
  {
   "cell_type": "markdown",
   "metadata": {},
   "source": [
    "#### user-based 使用用户间的相似度进行计算"
   ]
  },
  {
   "cell_type": "code",
   "execution_count": 16,
   "metadata": {},
   "outputs": [],
   "source": [
    "sim_users = user_sim.loc['User1'].drop(['User1']).sort_values(ascending=False)[:2].index\n",
    "score = 0\n",
    "sim_sum = 0\n",
    "for sim_user in sim_users:\n",
    "    score += user_sim.loc['User1', sim_user] * df.loc[sim_user, 'Item E']\n",
    "    sim_sum += user_sim.loc['User1', sim_user]\n",
    "score /= sim_sum"
   ]
  },
  {
   "cell_type": "code",
   "execution_count": 18,
   "metadata": {},
   "outputs": [
    {
     "data": {
      "text/plain": [
       "3.91"
      ]
     },
     "execution_count": 18,
     "metadata": {},
     "output_type": "execute_result"
    }
   ],
   "source": [
    "score.round(2)"
   ]
  },
  {
   "cell_type": "markdown",
   "metadata": {},
   "source": [
    "####  item-based 使用物品间的相似度进行计算"
   ]
  },
  {
   "cell_type": "code",
   "execution_count": 20,
   "metadata": {},
   "outputs": [
    {
     "data": {
      "text/plain": [
       "4.625"
      ]
     },
     "execution_count": 20,
     "metadata": {},
     "output_type": "execute_result"
    }
   ],
   "source": [
    "# 筛选出与Item E相似的top2物品\n",
    "sim_items = item_sim['Item E'].drop('Item E').sort_values(ascending=False)[:2].index\n",
    "# 计算User1对这些相似物品的加权评分作为User1对Item E的评分\n",
    "score = 0\n",
    "sim_sum = 0\n",
    "for sim_item in sim_items:\n",
    "    score += item_sim.loc[sim_item, 'Item E'] * df.loc['User1', sim_item] \n",
    "    sim_sum += item_sim.loc[sim_item, 'Item E']\n",
    "score /= sim_sum\n",
    "score.round(3)"
   ]
  }
 ],
 "metadata": {
  "kernelspec": {
   "display_name": "Python 3",
   "language": "python",
   "name": "python3"
  },
  "language_info": {
   "codemirror_mode": {
    "name": "ipython",
    "version": 3
   },
   "file_extension": ".py",
   "mimetype": "text/x-python",
   "name": "python",
   "nbconvert_exporter": "python",
   "pygments_lexer": "ipython3",
   "version": "3.7.6"
  }
 },
 "nbformat": 4,
 "nbformat_minor": 4
}

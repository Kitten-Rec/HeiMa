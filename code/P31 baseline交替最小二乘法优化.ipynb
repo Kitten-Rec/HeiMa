{
 "cells": [
  {
   "cell_type": "markdown",
   "metadata": {},
   "source": [
    "## 交替最小二乘法优化\n",
    "\n",
    "### 原理推导\n",
    "\n",
    "**损失函数**\n",
    "$$\n",
    "J(\\theta)=\\sum_{u,i\\in R}(r_{ui}-\\mu-b_u-b_i)^2+\\lambda*(\\sum_u b_u{^2}+\\sum_i b_i{^2} )\n",
    "$$\n",
    "\n",
    "**对损失函数求偏导**\n",
    "$$\n",
    "\\frac{\\partial{J(\\theta)}}{\\partial{b_u}}=-2\\sum_{u,i\\in R}(r_{ui}-\\mu-b_u-b_i)+2\\lambda * b_u\n",
    "$$\n",
    "**另偏导等于0，可得：**\n",
    "$$\n",
    "\\sum_{u,i\\in R}(r_{ui}-\\mu-b_u-b_i)=\\lambda * b_u \\\\\n",
    "\\sum_{u,i\\in R}(r_{ui}-\\mu-b_i)=\\sum_{u,i\\in R} b_u+\\lambda * b_u\n",
    "$$\n",
    "为了**简化公式**，令$\\sum_{u,i\\in R} b_u \\approx |R(u)|*b_u$，$|R(u)|$是$u$总的评分次数，可得：\n",
    "$$\n",
    "b_u=\\frac{\\sum_{u,i\\in R}(r_{ui}-\\mu-b_i)}{|R(u)|+\\lambda_1}\n",
    "$$\n",
    "**同理可得：**\n",
    "$$\n",
    "b_i=\\frac{\\sum_{u,i\\in R}(r_{ui}-\\mu-b_u)}{|R(i)|+\\lambda_2}\n",
    "$$\n",
    "其中$|R(i)|$是$i$总的被评分次数\n",
    "\n",
    "通过原理推导，我们得到了$b_u$和$b_i$的表达式，他们的表达式中又各自包含着对方，可以用交替最小二乘的方法来计算他们的值。\n",
    "\n"
   ]
  },
  {
   "cell_type": "code",
   "execution_count": 26,
   "metadata": {},
   "outputs": [],
   "source": [
    "import numpy as np\n",
    "import pandas as pd"
   ]
  },
  {
   "cell_type": "code",
   "execution_count": 28,
   "metadata": {},
   "outputs": [],
   "source": [
    "dataset = pd.read_csv(\"../dataset/ml-latest-small/ratings.csv\",dtype={\"userId\":np.int32, \"movieId\":np.int32,\"rating\":np.float32},usecols=range(3))\n",
    "dataset = pd.DataFrame(dataset)"
   ]
  },
  {
   "cell_type": "code",
   "execution_count": 40,
   "metadata": {},
   "outputs": [],
   "source": [
    "class BaselineCFBySGD(object):\n",
    "    def __init__(self, number_epochs=10, lambda1=0.1, lambda2=0.1, columns: list=[\"userId\",\"movieId\",\"rating\"]):\n",
    "        # 梯度下降最高迭代次数\n",
    "        self.number_epochs = number_epochs\n",
    "        # 正则参数\n",
    "        self.lambda1 = lambda1\n",
    "        self.lambda2 = lambda2\n",
    "        # 数据集字段名称\n",
    "        self.columns = columns\n",
    "\n",
    "    def fit(self, dataset):\n",
    "        \"\"\"\n",
    "        训练\n",
    "        :param dataset: uid, iid, rating\n",
    "        :return:\n",
    "        \"\"\"\n",
    "        self.dataset = dataset\n",
    "        # 用户评分数据\n",
    "        self.user_ratings = self.dataset.groupby(self.columns[0]).agg([list])[[self.columns[1], self.columns[2]]]\n",
    "        # 物品评分数据\n",
    "        self.item_ratings = self.dataset.groupby(self.columns[1]).agg([list])[[self.columns[0], self.columns[2]]]\n",
    "        # 计算全局平均分\n",
    "        self.global_mean = self.dataset[self.columns[2]].mean()\n",
    "#         # 计算各用户评分次数\n",
    "#         self.R_u = self.dataset.groupby(self.columns[0]).count()[self.columns[1]]\n",
    "#         # 计算各物品被评分次数\n",
    "#         self.R_i = self.dataset.groupby(self.columns[1]).count()[self.columns[0]]\n",
    "\n",
    "        # 调用als方法训练模型参数\n",
    "        self.bu, self.bi = self.als()\n",
    "\n",
    "    def als(self):\n",
    "        \"\"\"\n",
    "        随机梯度下降优化bu, bi\n",
    "        :return: bu, bi\n",
    "        \"\"\"\n",
    "        # 初始化参数 bu, bi  全部设置为0\n",
    "        bu = dict(zip(self.user_ratings.index, np.zeros(len(self.user_ratings.index))))\n",
    "        bi = dict(zip(self.item_ratings.index, np.zeros(len(self.item_ratings.index))))\n",
    "\n",
    "        # 交替最小二乘法更新参数\n",
    "        for epoch in range(self.number_epochs):\n",
    "            print(\"Epoch: %d\" % epoch)\n",
    "\n",
    "            for uid, iid_list, real_rating_list in self.user_ratings.itertuples(index=True):\n",
    "                sum = 0\n",
    "                for iid, real_rating in zip(iid_list, real_rating_list):\n",
    "                    sum += real_rating - self.global_mean - bi[iid]\n",
    "                bu[uid] = sum / (self.lambda1 * len(iid_list))\n",
    "#                 bu[uid] = sum / (self.lambda1 * self.R_u.loc[uid])\n",
    "\n",
    "            for iid, uid_list, real_rating_list in self.item_ratings.itertuples(index=True):\n",
    "                sum = 0\n",
    "                for uid, real_rating in zip(uid_list, real_rating_list):\n",
    "                    sum += real_rating - self.global_mean - bu[uid]\n",
    "                bi[iid] = sum / (self.lambda2 * len(uid_list))\n",
    "#                 bi[iid] = sum / (self.lambda2 * self.R_i.loc[iid])\n",
    "    \n",
    "        return bu, bi\n",
    "\n",
    "    def predict(self, uid, iid):\n",
    "        \"\"\"预测评分\"\"\"\n",
    "        predict_rating = self.global_mean + self.bu[uid] + self.bi[iid]\n",
    "        return predict_rating\n",
    "\n",
    "    def test(self, testset):\n",
    "        \"\"\"预测测试集数据\"\"\"\n",
    "        for uid, iid, real_rating in testset.itertuples(index=False):\n",
    "            try:\n",
    "                pred_rating = self.predict(uid, iid)\n",
    "            except Exception as e:\n",
    "                print(e,\"出现异常~\")\n",
    "            else:\n",
    "                yield uid, iid, real_rating, pred_rating"
   ]
  },
  {
   "cell_type": "code",
   "execution_count": 41,
   "metadata": {},
   "outputs": [
    {
     "name": "stdout",
     "output_type": "stream",
     "text": [
      "Epoch: 0\n",
      "Epoch: 1\n",
      "Epoch: 2\n",
      "Epoch: 3\n",
      "Epoch: 4\n",
      "Epoch: 5\n",
      "Epoch: 6\n",
      "Epoch: 7\n",
      "Epoch: 8\n",
      "Epoch: 9\n",
      "Epoch: 10\n",
      "Epoch: 11\n",
      "Epoch: 12\n",
      "Epoch: 13\n",
      "Epoch: 14\n"
     ]
    }
   ],
   "source": [
    "model = BaselineCFBySGD(number_epochs=15)\n",
    "model.fit(dataset)"
   ]
  },
  {
   "cell_type": "code",
   "execution_count": 47,
   "metadata": {},
   "outputs": [
    {
     "data": {
      "text/plain": [
       "-1.1524593008421473e+23"
      ]
     },
     "execution_count": 47,
     "metadata": {},
     "output_type": "execute_result"
    }
   ],
   "source": [
    "model.predict(1,1)"
   ]
  },
  {
   "cell_type": "markdown",
   "metadata": {},
   "source": [
    "疑惑的点：我不知道为什么在交替更新bu和bi参数的时候，先后顺序会对预测的结果有影响，也就是将两个for循环颠倒一下位置结果就不一样了,视频中是这样实现的（先根据bu去更新bi,然后根据更新好的bi去更新bu）：\n",
    "```python\n",
    "            for iid, uid_list, real_rating_list in self.item_ratings.itertuples(index=True):\n",
    "                sum = 0\n",
    "                for uid, real_rating in zip(uid_list, real_rating_list):\n",
    "                    sum += real_rating - self.global_mean - bu[uid]\n",
    "                bi[iid] = sum / (self.lambda2 * len(uid_list))            \n",
    "            for uid, iid_list, real_rating_list in self.user_ratings.itertuples(index=True):\n",
    "                sum = 0\n",
    "                for iid, real_rating in zip(iid_list, real_rating_list):\n",
    "                    sum += real_rating - self.global_mean - bi[iid]\n",
    "                bu[uid] = sum / (self.lambda1 * len(iid_list))        \n",
    "```"
   ]
  }
 ],
 "metadata": {
  "kernelspec": {
   "display_name": "Python 3",
   "language": "python",
   "name": "python3"
  },
  "language_info": {
   "codemirror_mode": {
    "name": "ipython",
    "version": 3
   },
   "file_extension": ".py",
   "mimetype": "text/x-python",
   "name": "python",
   "nbconvert_exporter": "python",
   "pygments_lexer": "ipython3",
   "version": "3.7.6"
  }
 },
 "nbformat": 4,
 "nbformat_minor": 4
}
